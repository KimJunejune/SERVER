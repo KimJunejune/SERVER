{
 "cells": [
  {
   "cell_type": "code",
   "execution_count": 16,
   "metadata": {},
   "outputs": [],
   "source": [
    "import os\n",
    "import random\n",
    "import numpy as np\n",
    "\n",
    "from sklearn.ensemble import RandomForestClassifier\n",
    "from sklearn.metrics import accuracy_score, f1_score\n",
    "from sklearn.model_selection import GridSearchCV\n",
    "\n",
    "data_dir = \"../data\""
   ]
  },
  {
   "cell_type": "code",
   "execution_count": 11,
   "metadata": {},
   "outputs": [],
   "source": [
    "def load_data(train_ratio = 0.7):\n",
    "    random.seed(925) # 固定训练集和验证集\n",
    "    \n",
    "    features = np.load(os.path.join(data_dir, \"processed/train_features.npy\"))\n",
    "    labels = np.load(os.path.join(data_dir, \"processed/train_labels.npy\"))\n",
    "    X_train = []\n",
    "    y_train = []\n",
    "    X_valid = []\n",
    "    y_valid = []\n",
    "\n",
    "    for i in range(len(labels)):\n",
    "        if random.uniform(0, 1) < train_ratio:\n",
    "            X_train.append(features[i])\n",
    "            y_train.append(labels[i])\n",
    "        else:\n",
    "            X_valid.append(features[i])\n",
    "            y_valid.append(labels[i])\n",
    "\n",
    "    return np.array(X_train), np.array(X_valid), np.array(y_train), np.array(y_valid)"
   ]
  },
  {
   "cell_type": "code",
   "execution_count": 12,
   "metadata": {},
   "outputs": [
    {
     "name": "stdout",
     "output_type": "stream",
     "text": [
      "(11741, 10)\n",
      "(4928,)\n"
     ]
    }
   ],
   "source": [
    "X_train, X_valid, y_train, y_valid = load_data()\n",
    "print(X_train.shape)\n",
    "print(y_valid.shape)"
   ]
  },
  {
   "cell_type": "code",
   "execution_count": 19,
   "metadata": {},
   "outputs": [
    {
     "name": "stdout",
     "output_type": "stream",
     "text": [
      "Best Params:{'class_weight': 'balanced', 'criterion': 'entropy', 'max_depth': 12, 'n_estimators': 60, 'random_state': 1}\n",
      "训练集准确率： 0.9354399114215144\n",
      "训练集f1： 0.9261176801987003\n",
      "测试集准确率： 0.6749188311688312\n",
      "测试集f1： 0.49886836508529564\n"
     ]
    }
   ],
   "source": [
    "# 随机森林===============================\n",
    "params = {'n_estimators':[20,40,60,80],'max_depth':[12,14,16],\n",
    "          'criterion':['entropy'],\"class_weight\":[ 'balanced'],\"random_state\":[1]}\n",
    "\n",
    "clf = GridSearchCV(estimator=RandomForestClassifier(),param_grid=params,cv = 5,n_jobs = -1,scoring=\"f1_macro\")\n",
    "clf.fit(X_train, y_train)  # 模型训练完毕\n",
    "print(\"Best Params:{}\".format(clf.best_params_))\n",
    "\n",
    "rdf = RandomForestClassifier(n_estimators=clf.best_params_['n_estimators'], criterion=\"entropy\", random_state =1, max_depth=clf.best_params_['max_depth'], class_weight=\"balanced\")\n",
    "rdf.fit(X_train, y_train)\n",
    "\n",
    "def eval(clf, X_train, X_test, y_train, y_test):\n",
    "    predicted = clf.predict(X_train)\n",
    "    accu = accuracy_score(y_train, predicted)\n",
    "    print(\"训练集准确率：\", accu)\n",
    "    f1 = f1_score(y_train, predicted, average=\"macro\")\n",
    "    print(\"训练集f1：\", f1)\n",
    "\n",
    "    predicted = clf.predict(X_test)\n",
    "    accu = accuracy_score(y_test, predicted)\n",
    "    print(\"测试集准确率：\", accu)\n",
    "    f1 = f1_score(y_test, predicted, average=\"macro\")\n",
    "    print(\"测试集f1：\", f1)\n",
    "\n",
    "eval(rdf, X_train, X_valid,y_train,  y_valid)"
   ]
  }
 ],
 "metadata": {
  "interpreter": {
   "hash": "01f534f5c2942d65655b578ea02c597a9ce6cf96431f5d006f131a5bd6d2ae63"
  },
  "kernelspec": {
   "display_name": "Python 3.8.12 ('ml_sklearn')",
   "language": "python",
   "name": "python3"
  },
  "language_info": {
   "codemirror_mode": {
    "name": "ipython",
    "version": 3
   },
   "file_extension": ".py",
   "mimetype": "text/x-python",
   "name": "python",
   "nbconvert_exporter": "python",
   "pygments_lexer": "ipython3",
   "version": "3.8.12"
  },
  "orig_nbformat": 4
 },
 "nbformat": 4,
 "nbformat_minor": 2
}
